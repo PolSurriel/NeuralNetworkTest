version https://git-lfs.github.com/spec/v1
oid sha256:d63d99c622aa779e44ca3d55d4092b6c0fddb7981960b0adfdae68879ea2faa5
size 1090
